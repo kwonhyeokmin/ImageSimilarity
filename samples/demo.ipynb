{
 "cells": [
  {
   "cell_type": "markdown",
   "metadata": {},
   "source": [
    "# 유사 이미지 검출 샘플모델 데모\n",
    "DNN기반 이미지 유사도 검출 샘플 모델(BaseNet) 데모."
   ]
  },
  {
   "cell_type": "code",
   "execution_count": 14,
   "metadata": {
    "pycharm": {
     "is_executing": true
    }
   },
   "outputs": [],
   "source": [
    "# load package\n",
    "import tensorflow as tf\n",
    "from functools import partial\n",
    "import itertools\n",
    "from tensorflow.keras.datasets import mnist\n",
    "import numpy as np\n",
    "import cv2\n",
    "from matplotlib import pyplot as plt\n",
    "import os.path as osp\n",
    "from pathlib import Path\n",
    "from model import create_model"
   ]
  },
  {
   "cell_type": "markdown",
   "metadata": {},
   "source": [
    "## 데이터셋 로드"
   ]
  },
  {
   "cell_type": "code",
   "execution_count": 15,
   "metadata": {
    "pycharm": {
     "is_executing": true
    }
   },
   "outputs": [],
   "source": [
    "number_of_dataset = 1000"
   ]
  },
  {
   "cell_type": "code",
   "execution_count": 16,
   "metadata": {
    "pycharm": {
     "is_executing": true
    }
   },
   "outputs": [],
   "source": [
    "(x_train, y_train), (x_test, y_test) = mnist.load_data()\n",
    "x_test = np.array(x_test) / .255\n",
    "x_test = x_test[:number_of_dataset]"
   ]
  },
  {
   "cell_type": "code",
   "execution_count": 17,
   "metadata": {
    "pycharm": {
     "is_executing": true
    }
   },
   "outputs": [],
   "source": [
    "# make pair dataset\n",
    "test_dataset = [[x, y] for x, y in zip(x_test, y_test)]\n",
    "test_dataset = [[x[0][0], x[1][0], 0 if x[0][1] == x[1][1] else 1] for x in\n",
    "                 itertools.combinations(test_dataset, 2)]"
   ]
  },
  {
   "cell_type": "code",
   "execution_count": 18,
   "metadata": {
    "pycharm": {
     "is_executing": true
    }
   },
   "outputs": [],
   "source": [
    "def display(idx):\n",
    "    img = test_dataset[idx]\n",
    "\n",
    "    f = plt.figure()\n",
    "\n",
    "    f.add_subplot(1,2, 1)\n",
    "    plt.imshow(img[0])\n",
    "    plt.xticks([])\n",
    "    plt.yticks([])\n",
    "\n",
    "    f.add_subplot(1,2, 2)\n",
    "    plt.imshow(img[1])\n",
    "    plt.xticks([])\n",
    "    plt.yticks([])\n",
    "\n",
    "    plt.show(block=True)\n",
    "    print('같은 숫자 입니다' if img[2]==0 else '다른 숫자 입니다')"
   ]
  },
  {
   "cell_type": "markdown",
   "metadata": {},
   "source": [
    "## 모델 로드"
   ]
  },
  {
   "cell_type": "code",
   "execution_count": 19,
   "metadata": {
    "pycharm": {
     "is_executing": true
    }
   },
   "outputs": [],
   "source": [
    "# model directory\n",
    "ROOT_DIR = Path.cwd().parent\n",
    "OUTPUT_DIR = osp.join(ROOT_DIR, 'output')\n",
    "MODEL_DIR = osp.join(OUTPUT_DIR, 'model_dump')"
   ]
  },
  {
   "cell_type": "code",
   "execution_count": 20,
   "metadata": {
    "pycharm": {
     "is_executing": true
    }
   },
   "outputs": [],
   "source": [
    "model = create_model()\n",
    "model.load_weights(osp.join(MODEL_DIR, 'model_epoch_10.h5'))"
   ]
  },
  {
   "cell_type": "code",
   "execution_count": 22,
   "metadata": {
    "pycharm": {
     "is_executing": true
    }
   },
   "outputs": [
    {
     "name": "stdout",
     "output_type": "stream",
     "text": [
      "Model: \"base_net_1\"\n",
      "_________________________________________________________________\n",
      "Layer (type)                 Output Shape              Param #   \n",
      "=================================================================\n",
      "flatten_1 (Flatten)          multiple                  0         \n",
      "_________________________________________________________________\n",
      "dense_1 (Dense)              multiple                  50240     \n",
      "_________________________________________________________________\n",
      "dropout_3 (Dropout)          multiple                  0         \n",
      "_________________________________________________________________\n",
      "dense_2 (Dense)              multiple                  8320      \n",
      "_________________________________________________________________\n",
      "dropout_4 (Dropout)          multiple                  0         \n",
      "_________________________________________________________________\n",
      "dense_3 (Dense)              multiple                  16512     \n",
      "_________________________________________________________________\n",
      "dropout_5 (Dropout)          multiple                  0         \n",
      "_________________________________________________________________\n",
      "dense_4 (Dense)              multiple                  16512     \n",
      "=================================================================\n",
      "Total params: 91,584\n",
      "Trainable params: 91,584\n",
      "Non-trainable params: 0\n",
      "_________________________________________________________________\n"
     ]
    }
   ],
   "source": [
    "model.summary()"
   ]
  },
  {
   "cell_type": "markdown",
   "metadata": {},
   "source": [
    "## 테스트"
   ]
  },
  {
   "cell_type": "markdown",
   "metadata": {},
   "source": [
    "### 다른 숫자"
   ]
  },
  {
   "cell_type": "code",
   "execution_count": 23,
   "metadata": {
    "pycharm": {
     "is_executing": true
    }
   },
   "outputs": [
    {
     "data": {
      "image/png": "[encoded data removed]",
      "text/plain": [
       "<Figure size 432x288 with 2 Axes>"
      ]
     },
     "metadata": {},
     "output_type": "display_data"
    },
    {
     "name": "stdout",
     "output_type": "stream",
     "text": [
      "다른 숫자 입니다\n",
      "tf.Tensor(16033.138, shape=(), dtype=float32)\n"
     ]
    }
   ],
   "source": [
    "idx = 2\n",
    "display(idx)\n",
    "test_img = test_dataset[idx]\n",
    "vector_f = model(np.array([test_img[0]], dtype=np.float32))\n",
    "vector_s = model(np.array([test_img[1]], dtype=np.float32))\n",
    "\n",
    "distance = tf.reduce_mean(tf.square(vector_f - vector_s))\n",
    "print(distance)"
   ]
  },
  {
   "cell_type": "code",
   "execution_count": 24,
   "metadata": {
    "pycharm": {
     "is_executing": true
    }
   },
   "outputs": [
    {
     "data": {
      "image/png": "[encoded data removed]",
      "text/plain": [
       "<Figure size 432x288 with 2 Axes>"
      ]
     },
     "metadata": {},
     "output_type": "display_data"
    },
    {
     "name": "stdout",
     "output_type": "stream",
     "text": [
      "다른 숫자 입니다\n",
      "tf.Tensor(7462.496, shape=(), dtype=float32)\n"
     ]
    }
   ],
   "source": [
    "idx = 20001\n",
    "display(idx)\n",
    "test_img = test_dataset[idx]\n",
    "vector_f = model(np.array([test_img[0]], dtype=np.float32))\n",
    "vector_s = model(np.array([test_img[1]], dtype=np.float32))\n",
    "\n",
    "distance = tf.reduce_mean(tf.square(vector_f - vector_s))\n",
    "print(distance)"
   ]
  },
  {
   "cell_type": "markdown",
   "metadata": {},
   "source": [
    "### 같은 숫자"
   ]
  },
  {
   "cell_type": "code",
   "execution_count": 25,
   "metadata": {
    "pycharm": {
     "is_executing": true
    }
   },
   "outputs": [
    {
     "data": {
      "image/png": "[encoded data removed]",
      "text/plain": [
       "<Figure size 432x288 with 2 Axes>"
      ]
     },
     "metadata": {},
     "output_type": "display_data"
    },
    {
     "name": "stdout",
     "output_type": "stream",
     "text": [
      "같은 숫자 입니다\n",
      "tf.Tensor(0.0, shape=(), dtype=float32)\n"
     ]
    }
   ],
   "source": [
    "idx = 16\n",
    "display(idx)\n",
    "test_img = test_dataset[idx]\n",
    "vector_f = model(np.array([test_img[0]], dtype=np.float32))\n",
    "vector_s = model(np.array([test_img[1]], dtype=np.float32))\n",
    "\n",
    "distance = tf.reduce_mean(tf.square(vector_f - vector_s))\n",
    "print(distance)"
   ]
  },
  {
   "cell_type": "code",
   "execution_count": 26,
   "metadata": {
    "pycharm": {
     "is_executing": true
    },
    "scrolled": true
   },
   "outputs": [
    {
     "data": {
      "image/png": "[encoded data removed]",
      "text/plain": [
       "<Figure size 432x288 with 2 Axes>"
      ]
     },
     "metadata": {},
     "output_type": "display_data"
    },
    {
     "name": "stdout",
     "output_type": "stream",
     "text": [
      "같은 숫자 입니다\n",
      "tf.Tensor(0.0, shape=(), dtype=float32)\n"
     ]
    }
   ],
   "source": [
    "idx = 59\n",
    "display(idx)\n",
    "test_img = test_dataset[idx]\n",
    "vector_f = model(np.array([test_img[0]], dtype=np.float32))\n",
    "vector_s = model(np.array([test_img[1]], dtype=np.float32))\n",
    "\n",
    "distance = tf.reduce_mean(tf.square(vector_f - vector_s))\n",
    "print(distance)"
   ]
  },
  {
   "cell_type": "code",
   "execution_count": 27,
   "metadata": {
    "pycharm": {
     "is_executing": true
    }
   },
   "outputs": [
    {
     "data": {
      "image/png": "[encoded data removed]",
      "text/plain": [
       "<Figure size 432x288 with 2 Axes>"
      ]
     },
     "metadata": {},
     "output_type": "display_data"
    },
    {
     "name": "stdout",
     "output_type": "stream",
     "text": [
      "같은 숫자 입니다\n",
      "tf.Tensor(1842.8264, shape=(), dtype=float32)\n"
     ]
    }
   ],
   "source": [
    "idx = 4033\n",
    "display(idx)\n",
    "test_img = test_dataset[idx]\n",
    "vector_f = model(np.array([test_img[0]], dtype=np.float32))\n",
    "vector_s = model(np.array([test_img[1]], dtype=np.float32))\n",
    "\n",
    "distance = tf.reduce_mean(tf.square(vector_f - vector_s))\n",
    "print(distance)"
   ]
  },
  {
   "cell_type": "code",
   "execution_count": null,
   "metadata": {
    "pycharm": {
     "is_executing": true
    }
   },
   "outputs": [],
   "source": []
  }
 ],
 "metadata": {
  "kernelspec": {
   "display_name": "Python 3",
   "language": "python",
   "name": "python3"
  },
  "language_info": {
   "codemirror_mode": {
    "name": "ipython",
    "version": 3
   },
   "file_extension": ".py",
   "mimetype": "text/x-python",
   "name": "python",
   "nbconvert_exporter": "python",
   "pygments_lexer": "ipython3",
   "version": "3.6.5"
  }
 },
 "nbformat": 4,
 "nbformat_minor": 1
}
